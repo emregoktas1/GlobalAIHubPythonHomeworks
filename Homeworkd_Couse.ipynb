{
 "cells": [
  {
   "cell_type": "code",
   "execution_count": 8,
   "metadata": {},
   "outputs": [
    {
     "name": "stdin",
     "output_type": "stream",
     "text": [
      "Please enter your name Emre\n",
      "Please enter your surname Gökta\n"
     ]
    },
    {
     "name": "stdout",
     "output_type": "stream",
     "text": [
      "You have 2 more guesses\n"
     ]
    },
    {
     "name": "stdin",
     "output_type": "stream",
     "text": [
      "Please enter your name Emre\n",
      "Please enter your surname Göktaş\n"
     ]
    },
    {
     "name": "stdout",
     "output_type": "stream",
     "text": [
      "Welcome Emre Göktaş\n"
     ]
    },
    {
     "name": "stdin",
     "output_type": "stream",
     "text": [
      "How many courses do you want to add 2\n"
     ]
    },
    {
     "name": "stdout",
     "output_type": "stream",
     "text": [
      "You have failed\n"
     ]
    }
   ],
   "source": [
    "def grades():\n",
    "    gradeDict = {\n",
    "        \"midterm\": 1,\n",
    "        \"final\": 1,\n",
    "        \"project\": 1\n",
    "    }\n",
    "    inpMid = int(input(\"Enter midterm grade: \"))\n",
    "    gradeDict[\"midterm\"] = inpMid\n",
    "    inpFin = int(input(\"Enter final grade: \"))\n",
    "    gradeDict[\"final\"] = inpFin\n",
    "    inpPro = int(input(\"Enter proje grade: \"))\n",
    "    gradeDict[\"project\"] = inpPro\n",
    "    e = gradeDict.get(\"midterm\")\n",
    "    m = gradeDict.get(\"final\")\n",
    "    r = gradeDict.get(\"project\")\n",
    "    midtermGrade = e*3/10\n",
    "    finalGrade = m*5/10\n",
    "    projectGrade = r*2/10\n",
    "    z = midtermGrade + finalGrade + projectGrade\n",
    "    totalGrade = round(z,2)\n",
    "    if(totalGrade >= 90):\n",
    "        print(\"AA\")\n",
    "    elif(70 < totalGrade <= 90):\n",
    "        print(\"BB\")\n",
    "    elif(50 < totalGrade <= 70):\n",
    "        print(\"CC\")\n",
    "    elif(30 < totalGrade <= 50):\n",
    "        print(\"DD\")\n",
    "    elif(totalGrade <= 30):\n",
    "        print(\"FF\")\n",
    "        print(\"You have failed\")\n",
    "    \n",
    "def courseSel(courseNo):\n",
    "    courseList = [\"Math\",\"Pyhsics\",\"AI\",\"ML\",\"Python\"]\n",
    "    if courseNo < 3:\n",
    "        t = print(\"You have failed\")\n",
    "        return t\n",
    "    elif courseNo >= 3:\n",
    "        coursesTaken = []\n",
    "        courses = []\n",
    "        print(\"Which courses do you want to add\")\n",
    "        print(\"For Math, enter 0\")\n",
    "        print(\"For Pyhsics, enter 1\")\n",
    "        print(\"For AI, enter 2\")\n",
    "        print(\"For ML, enter 3\")\n",
    "        print(\"For Python, enter 4\")\n",
    "        while(courseNo>0):\n",
    "            y = input()\n",
    "            coursesTaken.append(int(y))\n",
    "            courseNo -= 1\n",
    "            length = len(coursesTaken)\n",
    "            if(courseNo == 0):   \n",
    "                for i in coursesTaken:\n",
    "                    courses.append(courseList[i])\n",
    "                s = 0\n",
    "                for i in courses:  \n",
    "                    print(\"for {} press {}\".format(i,s))\n",
    "                    s += 1\n",
    "                choosenOne = int(input(\"Please choose the course that you want to take an exam\"))\n",
    "                print(courses[choosenOne])\n",
    "fName = \"Emre\"\n",
    "lName = \"Göktaş\"\n",
    "name = \"\"\n",
    "surname = \"\"\n",
    "turns = 3\n",
    "while turns > 0:\n",
    "    failed = 0\n",
    "    name = input(\"Please enter your name\")\n",
    "    surname = input(\"Please enter your surname\")\n",
    "    if(name == fName and surname == lName):\n",
    "        print(\"Welcome \" +name+ \" \" +surname)\n",
    "        turns = 0\n",
    "        courseNo = int(input(\"How many courses do you want to add\"))\n",
    "        courseSel(courseNo)\n",
    "        if(courseNo>3):\n",
    "            grades()\n",
    "    else:\n",
    "        failed += 1\n",
    "\n",
    "    if (name != fName or surname != lName):\n",
    "        turns -= 1\n",
    "        print (\"You have\", + turns, 'more guesses')\n",
    "        if turns == 0:\n",
    "            print(\"Please try again later\")\n",
    "                        \n"
   ]
  },
  {
   "cell_type": "code",
   "execution_count": null,
   "metadata": {},
   "outputs": [],
   "source": []
  }
 ],
 "metadata": {
  "kernelspec": {
   "display_name": "Python 3",
   "language": "python",
   "name": "python3"
  },
  "language_info": {
   "codemirror_mode": {
    "name": "ipython",
    "version": 3
   },
   "file_extension": ".py",
   "mimetype": "text/x-python",
   "name": "python",
   "nbconvert_exporter": "python",
   "pygments_lexer": "ipython3",
   "version": "3.9.1"
  }
 },
 "nbformat": 4,
 "nbformat_minor": 4
}
