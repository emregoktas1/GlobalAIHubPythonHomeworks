{
 "cells": [
  {
   "cell_type": "code",
   "execution_count": 3,
   "metadata": {},
   "outputs": [
    {
     "name": "stdin",
     "output_type": "stream",
     "text": [
      "Please enter your name  Emre\n"
     ]
    },
    {
     "name": "stdout",
     "output_type": "stream",
     "text": [
      "Hello Emre welcome to Hangman game\n",
      "_\n",
      "_\n",
      "_\n",
      "_\n"
     ]
    },
    {
     "name": "stdin",
     "output_type": "stream",
     "text": [
      "guess a character: e\n"
     ]
    },
    {
     "name": "stdout",
     "output_type": "stream",
     "text": [
      "e\n",
      "_\n",
      "_\n",
      "e\n"
     ]
    },
    {
     "name": "stdin",
     "output_type": "stream",
     "text": [
      "guess a character: m\n"
     ]
    },
    {
     "name": "stdout",
     "output_type": "stream",
     "text": [
      "e\n",
      "m\n",
      "_\n",
      "e\n"
     ]
    },
    {
     "name": "stdin",
     "output_type": "stream",
     "text": [
      "guess a character: r\n"
     ]
    },
    {
     "name": "stdout",
     "output_type": "stream",
     "text": [
      "e\n",
      "m\n",
      "r\n",
      "e\n",
      "You won\n"
     ]
    }
   ],
   "source": [
    "name = input(\"Please enter your name \")\n",
    "print(\"Hello \"+name+\" welcome to Hangman game\")\n",
    "word = \"emre\"\n",
    "guesses = ''\n",
    "turns = 3\n",
    "while turns > 0:\n",
    "    failed = 0\n",
    "    \n",
    "    for i in word:\n",
    "        if i in guesses:    \n",
    "            print(i)\n",
    "            \n",
    "        else:\n",
    "            print(\"_\")\n",
    "            failed += 1\n",
    "            \n",
    "    if failed == 0:        \n",
    "        print(\"You won\")\n",
    "        break\n",
    "        \n",
    "    guess = input(\"guess a character:\")\n",
    "    \n",
    "    guesses += guess\n",
    "    \n",
    "    if guess not in word:\n",
    "        turns -= 1\n",
    "        print(\"Wrong\")\n",
    "        print (\"You have\", + turns, 'more guesses')\n",
    "        if turns == 0:\n",
    "            print(\"You Lose\") "
   ]
  }
 ],
 "metadata": {
  "kernelspec": {
   "display_name": "Python 3",
   "language": "python",
   "name": "python3"
  },
  "language_info": {
   "codemirror_mode": {
    "name": "ipython",
    "version": 3
   },
   "file_extension": ".py",
   "mimetype": "text/x-python",
   "name": "python",
   "nbconvert_exporter": "python",
   "pygments_lexer": "ipython3",
   "version": "3.9.1"
  }
 },
 "nbformat": 4,
 "nbformat_minor": 4
}
