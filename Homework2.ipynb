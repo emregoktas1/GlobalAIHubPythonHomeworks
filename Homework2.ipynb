{
 "cells": [
  {
   "cell_type": "code",
   "execution_count": 1,
   "metadata": {},
   "outputs": [
    {
     "name": "stdin",
     "output_type": "stream",
     "text": [
      "First Name:  Emre\n",
      "Last Name:  Göktaş\n",
      "Age:  18\n",
      "Date of birth:  2002\n"
     ]
    },
    {
     "name": "stdout",
     "output_type": "stream",
     "text": [
      "Emre\n",
      "Göktaş\n",
      "18\n",
      "2002\n",
      "You can go out the street.\n"
     ]
    }
   ],
   "source": [
    "liste = list()\n",
    "fName = input(\"First Name: \")\n",
    "lName = input(\"Last Name: \")\n",
    "age = int(input(\"Age: \"))\n",
    "dateOfBirth  = int(input(\"Date of birth: \"))\n",
    "#liste.append(fName)\n",
    "#liste.append(lName)\n",
    "#liste.append(age)\n",
    "#liste.append(dateOfBirth)\n",
    "liste = [fName, lName, age, dateOfBirth]\n",
    "length = len(liste)\n",
    "for i in range(length):\n",
    "    print(liste[i])\n",
    "if age >= 18:\n",
    "    print(\"You can go out the street.\")\n",
    "elif age < 18:\n",
    "    print(\"You can't go out because it's too dangerous.\")"
   ]
  },
  {
   "cell_type": "code",
   "execution_count": null,
   "metadata": {},
   "outputs": [],
   "source": []
  }
 ],
 "metadata": {
  "kernelspec": {
   "display_name": "Python 3",
   "language": "python",
   "name": "python3"
  },
  "language_info": {
   "codemirror_mode": {
    "name": "ipython",
    "version": 3
   },
   "file_extension": ".py",
   "mimetype": "text/x-python",
   "name": "python",
   "nbconvert_exporter": "python",
   "pygments_lexer": "ipython3",
   "version": "3.9.1"
  }
 },
 "nbformat": 4,
 "nbformat_minor": 4
}
