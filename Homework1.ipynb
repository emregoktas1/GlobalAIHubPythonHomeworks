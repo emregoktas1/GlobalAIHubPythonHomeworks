{
 "cells": [
  {
   "cell_type": "code",
   "execution_count": null,
   "metadata": {},
   "outputs": [],
   "source": [
    "liste = list()\n",
    "for i in range(5):\n",
    "    x = input(\"Enter {}. value: \".format(i+1))\n",
    "    try:\n",
    "        val = int(x)\n",
    "        liste.append(int(x))\n",
    "    except ValueError:\n",
    "        try:\n",
    "            val = float(x)\n",
    "            liste.append(float(x))\n",
    "        except ValueError:\n",
    "            liste.append(x)\n",
    "\n",
    "print('{} {} {} {} {}'.format(liste[0],liste[1],liste[2],liste[3],liste[4]))\n",
    "for i in range(5):\n",
    "    print(type(liste[i]))"
   ]
  },
  {
   "cell_type": "code",
   "execution_count": null,
   "metadata": {},
   "outputs": [],
   "source": []
  }
 ],
 "metadata": {
  "kernelspec": {
   "display_name": "Python 3",
   "language": "python",
   "name": "python3"
  },
  "language_info": {
   "codemirror_mode": {
    "name": "ipython",
    "version": 3
   },
   "file_extension": ".py",
   "mimetype": "text/x-python",
   "name": "python",
   "nbconvert_exporter": "python",
   "pygments_lexer": "ipython3",
   "version": "3.9.1"
  }
 },
 "nbformat": 4,
 "nbformat_minor": 4
}
